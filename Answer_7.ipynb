{
 "cells": [
  {
   "cell_type": "code",
   "execution_count": 5,
   "id": "dce8453f-e5d8-4745-bcc4-6821c6f99a6f",
   "metadata": {},
   "outputs": [
    {
     "ename": "SyntaxError",
     "evalue": "cannot assign to function call here. Maybe you meant '==' instead of '='? (1845446287.py, line 7)",
     "output_type": "error",
     "traceback": [
      "\u001b[0;36m  Cell \u001b[0;32mIn[5], line 7\u001b[0;36m\u001b[0m\n\u001b[0;31m    a(1)=a\u001b[0m\n\u001b[0m    ^\u001b[0m\n\u001b[0;31mSyntaxError\u001b[0m\u001b[0;31m:\u001b[0m cannot assign to function call here. Maybe you meant '==' instead of '='?\n"
     ]
    }
   ],
   "source": [
    "#Immutable objects cannot be modified once they are created. If you attempt to change the value of an immutable object, a new object will be created with the modified value. Examples of immutable data types in Python include integers, floats, booleans, strings, and tuples.\n",
    "# Immutable data types\n",
    "a = 'deva'\n",
    "\n",
    "a(1)=a\n",
    "\n",
    "print(a)\n",
    "\n",
    "#this will create a type error"
   ]
  },
  {
   "cell_type": "code",
   "execution_count": 2,
   "id": "dd51dc5e-7a56-43e5-9cb2-e3f64e22ea4a",
   "metadata": {},
   "outputs": [
    {
     "name": "stdout",
     "output_type": "stream",
     "text": [
      "[1, 2, 3]\n",
      "[1, 2, 3, 4]\n",
      "{'a': 1, 'b': 2}\n",
      "{'a': 1, 'b': 2, 'c': 3}\n",
      "{1, 2, 3}\n",
      "{1, 2, 3, 4}\n"
     ]
    }
   ],
   "source": [
    "#Mutable objects can be modified after they are created. This means that their internal state can be changed without creating a new object. Examples of mutable data types in Python include lists, dictionaries, and sets.\n",
    "# Mutable data types\n",
    "lst = [1, 2, 3]\n",
    "print(lst)  \n",
    "\n",
    "lst.append(4) \n",
    "print(lst) \n",
    "\n",
    "dict_ = {'a': 1, 'b': 2}\n",
    "print(dict_) \n",
    "\n",
    "dict_['c'] = 3  \n",
    "print(dict_) \n",
    "\n",
    "set_ = {1, 2, 3}\n",
    "print(set_)  \n",
    "\n",
    "set_.add(4)\n",
    "print(set_)  \n"
   ]
  },
  {
   "cell_type": "code",
   "execution_count": null,
   "id": "c35b7b42-c56a-41b8-b8b4-b97907e05df1",
   "metadata": {},
   "outputs": [],
   "source": []
  }
 ],
 "metadata": {
  "kernelspec": {
   "display_name": "Python 3 (ipykernel)",
   "language": "python",
   "name": "python3"
  },
  "language_info": {
   "codemirror_mode": {
    "name": "ipython",
    "version": 3
   },
   "file_extension": ".py",
   "mimetype": "text/x-python",
   "name": "python",
   "nbconvert_exporter": "python",
   "pygments_lexer": "ipython3",
   "version": "3.10.8"
  }
 },
 "nbformat": 4,
 "nbformat_minor": 5
}
