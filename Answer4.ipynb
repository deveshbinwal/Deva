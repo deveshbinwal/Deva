{
 "cells": [
  {
   "cell_type": "code",
   "execution_count": 3,
   "id": "1777ac0d-8329-4255-ab77-c497b9b63be3",
   "metadata": {},
   "outputs": [],
   "source": [
    "l=[1, 2, 3, 4,'Deva','pw skills lab', 8.88, 8+4J,'true', 'FALSE']"
   ]
  },
  {
   "cell_type": "code",
   "execution_count": 4,
   "id": "6a5445a3-5de5-4ac5-a6cf-5743f7e21e75",
   "metadata": {},
   "outputs": [
    {
     "data": {
      "text/plain": [
       "[1, 2, 3, 4, 'Deva', 'pw skills lab', 8.88, (8+4j), 'true', 'FALSE']"
      ]
     },
     "execution_count": 4,
     "metadata": {},
     "output_type": "execute_result"
    }
   ],
   "source": [
    "l"
   ]
  },
  {
   "cell_type": "code",
   "execution_count": 5,
   "id": "d3e1078c-8c57-4689-b904-e1d445d91f61",
   "metadata": {},
   "outputs": [
    {
     "data": {
      "text/plain": [
       "list"
      ]
     },
     "execution_count": 5,
     "metadata": {},
     "output_type": "execute_result"
    }
   ],
   "source": [
    "type(l)"
   ]
  },
  {
   "cell_type": "code",
   "execution_count": 11,
   "id": "d6c26ddb-00f7-4b18-90fe-70f1112df6ba",
   "metadata": {},
   "outputs": [
    {
     "name": "stdout",
     "output_type": "stream",
     "text": [
      "1\n",
      "<class 'int'>\n",
      "2\n",
      "<class 'int'>\n",
      "3\n",
      "<class 'int'>\n",
      "4\n",
      "<class 'int'>\n",
      "Deva\n",
      "<class 'str'>\n",
      "pw skills lab\n",
      "<class 'str'>\n",
      "8.88\n",
      "<class 'float'>\n",
      "(8+4j)\n",
      "<class 'complex'>\n",
      "true\n",
      "<class 'str'>\n",
      "FALSE\n",
      "<class 'str'>\n"
     ]
    }
   ],
   "source": [
    "for i in l:\n",
    "    print(i)\n",
    "    print(type(i))"
   ]
  },
  {
   "cell_type": "code",
   "execution_count": 12,
   "id": "b6843e10-60f9-46e1-8218-fc00ac52bcde",
   "metadata": {},
   "outputs": [
    {
     "ename": "NameError",
     "evalue": "name 'length' is not defined",
     "output_type": "error",
     "traceback": [
      "\u001b[0;31m---------------------------------------------------------------------------\u001b[0m",
      "\u001b[0;31mNameError\u001b[0m                                 Traceback (most recent call last)",
      "Cell \u001b[0;32mIn[12], line 1\u001b[0m\n\u001b[0;32m----> 1\u001b[0m \u001b[43mlength\u001b[49m(l)\n",
      "\u001b[0;31mNameError\u001b[0m: name 'length' is not defined"
     ]
    }
   ],
   "source": [
    "len(l)"
   ]
  },
  {
   "cell_type": "code",
   "execution_count": null,
   "id": "6cec3cfb-651a-4b26-bc80-cf211fbb7d37",
   "metadata": {},
   "outputs": [],
   "source": []
  }
 ],
 "metadata": {
  "kernelspec": {
   "display_name": "Python 3 (ipykernel)",
   "language": "python",
   "name": "python3"
  },
  "language_info": {
   "codemirror_mode": {
    "name": "ipython",
    "version": 3
   },
   "file_extension": ".py",
   "mimetype": "text/x-python",
   "name": "python",
   "nbconvert_exporter": "python",
   "pygments_lexer": "ipython3",
   "version": "3.10.8"
  }
 },
 "nbformat": 4,
 "nbformat_minor": 5
}
