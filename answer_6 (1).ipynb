{
 "cells": [
  {
   "cell_type": "code",
   "execution_count": 8,
   "id": "b58d6a90-c3b8-4872-b2f2-50dafd99eb8b",
   "metadata": {},
   "outputs": [
    {
     "name": "stdout",
     "output_type": "stream",
     "text": [
      "divisible by 3\n",
      "divisible by 3\n",
      "divisible by 3\n",
      "divisible by 3\n",
      "divisible by 3\n",
      "divisible by 3\n",
      "divisible by 3\n",
      "divisible by 3\n",
      "divisible by 3\n",
      "divisible by 3\n",
      "divisible by 3\n",
      "divisible by 3\n",
      "divisible by 3\n",
      "divisible by 3\n",
      "divisible by 3\n",
      "divisible by 3\n",
      "divisible by 3\n",
      "divisible by 3\n",
      "divisible by 3\n",
      "divisible by 3\n",
      "divisible by 3\n",
      "divisible by 3\n",
      "divisible by 3\n",
      "divisible by 3\n",
      "divisible by 3\n"
     ]
    }
   ],
   "source": [
    "l=[1,2,3,4,5,6,7,8,9,10,11,12,13,14,15,16,17,18,19,20,21,22,23,24,25]\n",
    "for i in l:\n",
    "    if i/3:\n",
    "        print ('divisible by 3')\n",
    "    else:\n",
    "            print('Not divisible by 3')"
   ]
  },
  {
   "cell_type": "code",
   "execution_count": 12,
   "id": "cf06b791-1576-4cbe-960d-836f37f26f17",
   "metadata": {},
   "outputs": [
    {
     "data": {
      "text/plain": [
       "range(0, 25)"
      ]
     },
     "execution_count": 12,
     "metadata": {},
     "output_type": "execute_result"
    }
   ],
   "source": [
    "range(25)"
   ]
  },
  {
   "cell_type": "code",
   "execution_count": 13,
   "id": "cb238a6d-2c4c-4c19-8348-0c20efee7a3b",
   "metadata": {},
   "outputs": [
    {
     "data": {
      "text/plain": [
       "[0,\n",
       " 1,\n",
       " 2,\n",
       " 3,\n",
       " 4,\n",
       " 5,\n",
       " 6,\n",
       " 7,\n",
       " 8,\n",
       " 9,\n",
       " 10,\n",
       " 11,\n",
       " 12,\n",
       " 13,\n",
       " 14,\n",
       " 15,\n",
       " 16,\n",
       " 17,\n",
       " 18,\n",
       " 19,\n",
       " 20,\n",
       " 21,\n",
       " 22,\n",
       " 23,\n",
       " 24]"
      ]
     },
     "execution_count": 13,
     "metadata": {},
     "output_type": "execute_result"
    }
   ],
   "source": [
    "list(range(25))"
   ]
  },
  {
   "cell_type": "code",
   "execution_count": null,
   "id": "6184ad86-f118-4348-8c74-e11eaae71b21",
   "metadata": {},
   "outputs": [],
   "source": []
  }
 ],
 "metadata": {
  "kernelspec": {
   "display_name": "Python 3 (ipykernel)",
   "language": "python",
   "name": "python3"
  },
  "language_info": {
   "codemirror_mode": {
    "name": "ipython",
    "version": 3
   },
   "file_extension": ".py",
   "mimetype": "text/x-python",
   "name": "python",
   "nbconvert_exporter": "python",
   "pygments_lexer": "ipython3",
   "version": "3.10.8"
  }
 },
 "nbformat": 4,
 "nbformat_minor": 5
}
