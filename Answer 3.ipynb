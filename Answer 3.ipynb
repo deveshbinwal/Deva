{
 "cells": [
  {
   "cell_type": "code",
   "execution_count": 1,
   "id": "09ea4c35-3b5b-4c66-95d3-1edb0df22d68",
   "metadata": {},
   "outputs": [
    {
     "data": {
      "text/plain": [
       "2.0"
      ]
     },
     "execution_count": 1,
     "metadata": {},
     "output_type": "execute_result"
    }
   ],
   "source": [
    "8/4 #Division operator"
   ]
  },
  {
   "cell_type": "code",
   "execution_count": 3,
   "id": "2d8b671a-8d1d-4e17-92a0-1e2a6e7780d4",
   "metadata": {},
   "outputs": [
    {
     "data": {
      "text/plain": [
       "1"
      ]
     },
     "execution_count": 3,
     "metadata": {},
     "output_type": "execute_result"
    }
   ],
   "source": [
    "9%4 #Modulus operator"
   ]
  },
  {
   "cell_type": "code",
   "execution_count": 4,
   "id": "6cf412ad-2504-4e16-b0e3-6346d267ef70",
   "metadata": {},
   "outputs": [
    {
     "data": {
      "text/plain": [
       "2"
      ]
     },
     "execution_count": 4,
     "metadata": {},
     "output_type": "execute_result"
    }
   ],
   "source": [
    "9//4 #Floor division oerator"
   ]
  },
  {
   "cell_type": "code",
   "execution_count": 5,
   "id": "757ad8e4-9bef-4cd8-bb20-d1fa67fbc8b7",
   "metadata": {},
   "outputs": [
    {
     "data": {
      "text/plain": [
       "8"
      ]
     },
     "execution_count": 5,
     "metadata": {},
     "output_type": "execute_result"
    }
   ],
   "source": [
    "2**3 #Exponetiation operator"
   ]
  },
  {
   "cell_type": "code",
   "execution_count": null,
   "id": "ad3c9140-8c3e-471e-9f34-7cf0eeaa1ce3",
   "metadata": {},
   "outputs": [],
   "source": []
  }
 ],
 "metadata": {
  "kernelspec": {
   "display_name": "Python 3 (ipykernel)",
   "language": "python",
   "name": "python3"
  },
  "language_info": {
   "codemirror_mode": {
    "name": "ipython",
    "version": 3
   },
   "file_extension": ".py",
   "mimetype": "text/x-python",
   "name": "python",
   "nbconvert_exporter": "python",
   "pygments_lexer": "ipython3",
   "version": "3.10.8"
  }
 },
 "nbformat": 4,
 "nbformat_minor": 5
}
