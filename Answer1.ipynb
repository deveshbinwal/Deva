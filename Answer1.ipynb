{
 "cells": [
  {
   "cell_type": "code",
   "execution_count": 1,
   "id": "d492193f-d740-4df1-a24f-1271ea7daad3",
   "metadata": {},
   "outputs": [],
   "source": [
    "a=\"Deva\"  #srting datatype"
   ]
  },
  {
   "cell_type": "code",
   "execution_count": 2,
   "id": "d467e293-5ad6-4d51-ba58-302a7f6de186",
   "metadata": {},
   "outputs": [
    {
     "data": {
      "text/plain": [
       "str"
      ]
     },
     "execution_count": 2,
     "metadata": {},
     "output_type": "execute_result"
    }
   ],
   "source": [
    "type(a)"
   ]
  },
  {
   "cell_type": "code",
   "execution_count": 3,
   "id": "2bb3d398-aa7b-41bb-98d4-51c42f1d9af0",
   "metadata": {},
   "outputs": [],
   "source": [
    "b=[1,2,3,4,\"Laptop\",3+8j,4.99] #list datatype"
   ]
  },
  {
   "cell_type": "code",
   "execution_count": 4,
   "id": "f37b8f45-1a43-4846-99c2-835d4bae2921",
   "metadata": {},
   "outputs": [
    {
     "data": {
      "text/plain": [
       "list"
      ]
     },
     "execution_count": 4,
     "metadata": {},
     "output_type": "execute_result"
    }
   ],
   "source": [
    "type(b)"
   ]
  },
  {
   "cell_type": "code",
   "execution_count": 6,
   "id": "a13b8fe7-e46f-4d5c-a8e7-7f90d495c2f8",
   "metadata": {},
   "outputs": [],
   "source": [
    "c=4.00 #float datatype"
   ]
  },
  {
   "cell_type": "code",
   "execution_count": 8,
   "id": "11e8063c-5f3e-46e2-8534-8509f341fa00",
   "metadata": {},
   "outputs": [
    {
     "data": {
      "text/plain": [
       "float"
      ]
     },
     "execution_count": 8,
     "metadata": {},
     "output_type": "execute_result"
    }
   ],
   "source": [
    "type(c)"
   ]
  },
  {
   "cell_type": "code",
   "execution_count": 9,
   "id": "e14fb2e9-6dc8-45c4-b421-a8fc5d6ffd67",
   "metadata": {},
   "outputs": [],
   "source": [
    "d=(\"one\", \"two\", \"three\") #tuple datatype"
   ]
  },
  {
   "cell_type": "code",
   "execution_count": 10,
   "id": "180b9100-683e-443b-a874-e6f935f32f50",
   "metadata": {},
   "outputs": [
    {
     "data": {
      "text/plain": [
       "tuple"
      ]
     },
     "execution_count": 10,
     "metadata": {},
     "output_type": "execute_result"
    }
   ],
   "source": [
    "type(d)"
   ]
  },
  {
   "cell_type": "code",
   "execution_count": null,
   "id": "9eb98a27-7ddd-41b0-9d9f-fe708cbb261c",
   "metadata": {},
   "outputs": [],
   "source": []
  }
 ],
 "metadata": {
  "kernelspec": {
   "display_name": "Python 3 (ipykernel)",
   "language": "python",
   "name": "python3"
  },
  "language_info": {
   "codemirror_mode": {
    "name": "ipython",
    "version": 3
   },
   "file_extension": ".py",
   "mimetype": "text/x-python",
   "name": "python",
   "nbconvert_exporter": "python",
   "pygments_lexer": "ipython3",
   "version": "3.10.8"
  }
 },
 "nbformat": 4,
 "nbformat_minor": 5
}
